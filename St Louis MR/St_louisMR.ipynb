{
 "cells": [
  {
   "cell_type": "code",
   "execution_count": 1,
   "id": "0235793d-d242-4a00-b44d-617a5a9620b7",
   "metadata": {},
   "outputs": [
    {
     "data": {
      "text/plain": [
       "'/home/jovyan/Capstone/St Louis MR'"
      ]
     },
     "execution_count": 1,
     "metadata": {},
     "output_type": "execute_result"
    }
   ],
   "source": [
    "pwd"
   ]
  },
  {
   "cell_type": "code",
   "execution_count": 11,
   "id": "fe57bcf2-7d55-440b-9d20-f40771def10b",
   "metadata": {},
   "outputs": [
    {
     "name": "stdout",
     "output_type": "stream",
     "text": [
      "       post_speeds\n",
      "count  2298.000000\n",
      "mean     14.679721\n",
      "std       2.040542\n",
      "min       9.000000\n",
      "25%      13.000000\n",
      "50%      15.000000\n",
      "75%      16.000000\n",
      "max      29.000000\n"
     ]
    }
   ],
   "source": [
    "import pandas as pd\n",
    "import matplotlib.pyplot as plt\n",
    "import scipy.stats as stats\n",
    "post_treatment = pd.read_csv('data/St_Louis_MR_post.csv')\n",
    "post_speeds = post_treatment['Avg Spot Speed (mph)']\n",
    "df = pd.DataFrame({'post_speeds': post_speeds})\n",
    "summary_table = df.describe()\n",
    "print(summary_table)"
   ]
  },
  {
   "cell_type": "code",
   "execution_count": null,
   "id": "73c719ad-510b-4409-b73c-66375045c14d",
   "metadata": {},
   "outputs": [],
   "source": [
    "import pandas as pd\n",
    "import matplotlib.pyplot as plt\n",
    "import scipy.stats as stats\n",
    "pre_treatment = pd.read_csv('data/St_Louis_MR_post.csv')\n",
    "post_treatment = pd.read_csv('data/Oakwood_post_treatment.csv')"
   ]
  },
  {
   "cell_type": "code",
   "execution_count": 41,
   "id": "2128c269-7bb6-4f94-8730-1c0f9a32e959",
   "metadata": {},
   "outputs": [
    {
     "data": {
      "text/plain": [
       "884     3: Wednesday (W-W)\n",
       "102        1: Monday (M-M)\n",
       "270        5: Friday (F-F)\n",
       "1296    0: All Days (M-Su)\n",
       "1537    0: All Days (M-Su)\n",
       "1378       5: Friday (F-F)\n",
       "992        5: Friday (F-F)\n",
       "1157    0: All Days (M-Su)\n",
       "817     0: All Days (M-Su)\n",
       "309     3: Wednesday (W-W)\n",
       "Name: Day Type, dtype: object"
      ]
     },
     "execution_count": 41,
     "metadata": {},
     "output_type": "execute_result"
    }
   ],
   "source": [
    "post_treatment['Day Type'].sample(10)"
   ]
  },
  {
   "cell_type": "code",
   "execution_count": 42,
   "id": "182651f4-e3c5-4f6a-801e-16e851274c47",
   "metadata": {},
   "outputs": [],
   "source": [
    "post_treatment.drop(post_treatment[post_treatment['Day Part'] == '0: All Days (M-Su)'].index,inplace=True)\n"
   ]
  },
  {
   "cell_type": "code",
   "execution_count": null,
   "id": "35952ddb-9991-414e-b24e-fb1434f653da",
   "metadata": {},
   "outputs": [],
   "source": [
    "pre_speeds = pre_treatment['Avg Spot Speed (mph)']\n",
    "post_speeds = post_treatment['Avg Spot Speed (mph)']\n",
    "\n",
    "t_stat, p_value = stats.ttest_rel(pre_speeds, post_speeds)\n",
    "\n",
    "df = pd.DataFrame({   \n",
    "    'pre_speeds': pre_speeds,\n",
    "    'post_speeds': post_speeds\n",
    "})\n",
    "\n",
    "summary_table = df.describe()\n",
    "print(summary_table) \n",
    "bar_colors = ['red','blue']\n",
    "plt.figure(figsize=(6, 4))\n",
    "plt.bar(['Pre-Treatment', 'Post-Treatment'], \n",
    "        [pre_speeds.mean(), post_speeds.mean()], \n",
    "        yerr=[pre_speeds.std(), post_speeds.std()], capsize=5,color = bar_colors)\n",
    "\n",
    "plt.ylabel('Average Spot Speed (mph)')\n",
    "plt.title('Oakwood Traffic Circle: Pre vs Post-Treatment Speeds')\n",
    "plt.show()\n",
    "print(f\"T-Statistic: {t_stat}\")\n",
    "print(f\"P-Value: {p_value}\")"
   ]
  }
 ],
 "metadata": {
  "kernelspec": {
   "display_name": "Python 3 (ipykernel)",
   "language": "python",
   "name": "python3"
  },
  "language_info": {
   "codemirror_mode": {
    "name": "ipython",
    "version": 3
   },
   "file_extension": ".py",
   "mimetype": "text/x-python",
   "name": "python",
   "nbconvert_exporter": "python",
   "pygments_lexer": "ipython3",
   "version": "3.11.9"
  }
 },
 "nbformat": 4,
 "nbformat_minor": 5
}
